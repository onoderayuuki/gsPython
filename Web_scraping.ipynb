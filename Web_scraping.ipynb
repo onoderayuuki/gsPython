{
 "cells": [
  {
   "cell_type": "code",
   "execution_count": 19,
   "metadata": {},
   "outputs": [],
   "source": [
    "from urllib.request import urlopen\n",
    "from bs4 import BeautifulSoup\n",
    "\n",
    "# Get\n",
    "with urlopen(\"http://www.yoheim.net\") as res:\n",
    "    html = res.read().decode(\"utf-8\")\n",
    "#Load\n",
    "soup = BeautifulSoup(html,\"html.parser\")\n",
    "#Select\n",
    "titles = soup.select(\".articleListItem h2\")\n",
    "titles2 = [t.string for t in titles]"
   ]
  },
  {
   "cell_type": "code",
   "execution_count": null,
   "metadata": {},
   "outputs": [],
   "source": []
  },
  {
   "cell_type": "code",
   "execution_count": 20,
   "metadata": {},
   "outputs": [
    {
     "name": "stdout",
     "output_type": "stream",
     "text": [
      "['フォームの遷移先を、ボタンごとに変更する（formaction属性を利用）',\n",
      " '[CSS] 上下左右中央に表示する５つの方法（IE, Edge, Chrome, Safari, Firefoxに対応）',\n",
      " '[シェル] grepで前後の行も表示して、エラーログ調査を楽にしよう']\n"
     ]
    }
   ],
   "source": [
    "from pprint import pprint\n",
    "pprint(titles2[:3])"
   ]
  },
  {
   "cell_type": "code",
   "execution_count": 21,
   "metadata": {},
   "outputs": [],
   "source": [
    "# Get\n",
    "with urlopen(\"http://www.helloproject.com/angerme/profile/\") as res:\n",
    "    html = res.read().decode(\"utf-8\")\n",
    "#Load\n",
    "soup = BeautifulSoup(html,\"html.parser\")\n"
   ]
  },
  {
   "cell_type": "code",
   "execution_count": 22,
   "metadata": {},
   "outputs": [
    {
     "data": {
      "text/plain": [
       "['竹内朱莉', '川村文乃', '佐々木莉佳子', '上國料萌衣', '伊勢鈴蘭', '橋迫鈴', '川名凜', '為永幸音', '松本わかな']"
      ]
     },
     "execution_count": 22,
     "metadata": {},
     "output_type": "execute_result"
    }
   ],
   "source": [
    "#Select\n",
    "angerme = soup.select(\".name h4\")\n",
    "member = [t.string for t in angerme]\n",
    "member"
   ]
  },
  {
   "cell_type": "code",
   "execution_count": null,
   "metadata": {},
   "outputs": [],
   "source": [
    "from urllib.request import urlopen\n",
    "from bs4 import BeautifulSoup\n",
    "\n",
    "# Get\n",
    "with urlopen(\"https://b.hatena.ne.jp/hotentry/all\") as res:\n",
    "    html = res.read().decode(\"utf-8\")\n",
    "\n",
    "#Load\n",
    "soup = BeautifulSoup(html,\"html.parser\")\n",
    "\n",
    "#Select\n",
    "titles = soup.select(\".js-keyboard-openable\")\n",
    "titles2 = [t.string for t in titles]\n",
    "titles2"
   ]
  }
 ],
 "metadata": {
  "interpreter": {
   "hash": "40d3a090f54c6569ab1632332b64b2c03c39dcf918b08424e98f38b5ae0af88f"
  },
  "kernelspec": {
   "display_name": "Python 3.8.5 64-bit ('base': conda)",
   "language": "python",
   "name": "python3"
  },
  "language_info": {
   "codemirror_mode": {
    "name": "ipython",
    "version": 3
   },
   "file_extension": ".py",
   "mimetype": "text/x-python",
   "name": "python",
   "nbconvert_exporter": "python",
   "pygments_lexer": "ipython3",
   "version": "3.9.6"
  },
  "orig_nbformat": 4
 },
 "nbformat": 4,
 "nbformat_minor": 2
}
